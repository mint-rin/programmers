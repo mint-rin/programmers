{
  "nbformat": 4,
  "nbformat_minor": 0,
  "metadata": {
    "colab": {
      "provenance": [],
      "authorship_tag": "ABX9TyN7/US40Jx+ezvYTLiXkVk+",
      "include_colab_link": true
    },
    "kernelspec": {
      "name": "python3",
      "display_name": "Python 3"
    },
    "language_info": {
      "name": "python"
    }
  },
  "cells": [
    {
      "cell_type": "markdown",
      "metadata": {
        "id": "view-in-github",
        "colab_type": "text"
      },
      "source": [
        "<a href=\"https://colab.research.google.com/github/mint-rin/programmers/blob/coding_basic_training/Day01_%EC%B6%9C%EB%A0%A5.ipynb\" target=\"_parent\"><img src=\"https://colab.research.google.com/assets/colab-badge.svg\" alt=\"Open In Colab\"/></a>"
      ]
    },
    {
      "cell_type": "markdown",
      "source": [
        "# 문자열 출력하기"
      ],
      "metadata": {
        "id": "CyW2ncA7cTin"
      }
    },
    {
      "cell_type": "markdown",
      "source": [
        "문자열 str이 주어질 때, str을 출력하는 코드를 작성해 보세요."
      ],
      "metadata": {
        "id": "lRQhaGHkcatg"
      }
    },
    {
      "cell_type": "code",
      "source": [
        "str = input()\n",
        "print(str)"
      ],
      "metadata": {
        "colab": {
          "base_uri": "https://localhost:8080/"
        },
        "id": "ZH7dBvfWcdM6",
        "outputId": "f06c3467-0ccd-412c-ba86-647e15078415"
      },
      "execution_count": 1,
      "outputs": [
        {
          "output_type": "stream",
          "name": "stdout",
          "text": [
            "HelloWorld!\n",
            "HelloWorld!\n"
          ]
        }
      ]
    },
    {
      "cell_type": "markdown",
      "source": [
        "# a와 b 출력하기"
      ],
      "metadata": {
        "id": "5cgVgnZmchlO"
      }
    },
    {
      "cell_type": "markdown",
      "source": [
        "정수 a와 b가 주어집니다. 각 수를 입력받아 입출력 예와 같은 형식으로 출력하는 코드를 작성해 보세요."
      ],
      "metadata": {
        "id": "x4eE867EeFgX"
      }
    },
    {
      "cell_type": "code",
      "source": [
        "a, b = map(int, input().strip().split(' '))\n",
        "print(\"a = %d\" %a)\n",
        "print(\"b = %d\" %b)"
      ],
      "metadata": {
        "colab": {
          "base_uri": "https://localhost:8080/"
        },
        "id": "vay61OY5ck89",
        "outputId": "7933eb53-ae55-44f6-d6e6-a1cc1b55c950"
      },
      "execution_count": 2,
      "outputs": [
        {
          "output_type": "stream",
          "name": "stdout",
          "text": [
            "4 5\n",
            "a = 4\n",
            "b = 5\n"
          ]
        }
      ]
    },
    {
      "cell_type": "markdown",
      "source": [
        "# 문자열 반복해서 출력하기"
      ],
      "metadata": {
        "id": "KiR8uJzoeU_Z"
      }
    },
    {
      "cell_type": "markdown",
      "source": [
        "문자열 str과 정수 n이 주어집니다.\n",
        "str이 n번 반복된 문자열을 만들어 출력하는 코드를 작성해 보세요."
      ],
      "metadata": {
        "id": "mPYTG60EeWii"
      }
    },
    {
      "cell_type": "code",
      "source": [
        "a, b = input().strip().split(' ')\n",
        "b = int(b)\n",
        "print(a*b)"
      ],
      "metadata": {
        "colab": {
          "base_uri": "https://localhost:8080/"
        },
        "id": "eToKGH1heZqP",
        "outputId": "71288a5d-96e1-4d49-b20f-50d94a9b8cc1"
      },
      "execution_count": 3,
      "outputs": [
        {
          "output_type": "stream",
          "name": "stdout",
          "text": [
            "string 5\n",
            "stringstringstringstringstring\n"
          ]
        }
      ]
    },
    {
      "cell_type": "markdown",
      "source": [
        "# 대소문자 바꿔서 출력하기"
      ],
      "metadata": {
        "id": "8aTBj10Neyok"
      }
    },
    {
      "cell_type": "markdown",
      "source": [
        "영어 알파벳으로 이루어진 문자열 str이 주어집니다. 각 알파벳을 대문자는 소문자로 소문자는 대문자로 변환해서 출력하는 코드를 작성해 보세요."
      ],
      "metadata": {
        "id": "7VM_VJ-UfHlR"
      }
    },
    {
      "cell_type": "code",
      "source": [
        "str = input().swapcase()\n",
        "print(str)"
      ],
      "metadata": {
        "colab": {
          "base_uri": "https://localhost:8080/"
        },
        "id": "bLlx3Z9WgTVI",
        "outputId": "ea7deb4f-13c0-4923-f29b-056ce29c8c5d"
      },
      "execution_count": 4,
      "outputs": [
        {
          "output_type": "stream",
          "name": "stdout",
          "text": [
            "aBcDeFg\n",
            "AbCdEfG\n"
          ]
        }
      ]
    },
    {
      "cell_type": "markdown",
      "source": [
        "# 특수문자 출력하기"
      ],
      "metadata": {
        "id": "-LfFmNYagOqh"
      }
    },
    {
      "cell_type": "markdown",
      "source": [
        "다음과 같이 출력하도록 코드를 작성해 주세요.\n",
        "\n",
        "\n",
        "출력 예시: !@#$%^&*(\\'\"<>?:;"
      ],
      "metadata": {
        "id": "RYISuMdtiRn2"
      }
    },
    {
      "cell_type": "code",
      "source": [
        "# 파이썬으로 \\(백슬래시), \"(큰따옴표), '(작은따옴표)를 나타내기 위해서는 문자 앞에 \\(백슬래시)를 붙여줘야 한다.\n",
        "print(\"!@#$%^&*(\\\\\\'\\\"<>?:;\")"
      ],
      "metadata": {
        "colab": {
          "base_uri": "https://localhost:8080/"
        },
        "id": "Pm1gXACPiZDM",
        "outputId": "10087ab9-9aba-4ed5-f472-427acc3f0c95"
      },
      "execution_count": 5,
      "outputs": [
        {
          "output_type": "stream",
          "name": "stdout",
          "text": [
            "!@#$%^&*(\\'\"<>?:;\n"
          ]
        }
      ]
    }
  ]
}