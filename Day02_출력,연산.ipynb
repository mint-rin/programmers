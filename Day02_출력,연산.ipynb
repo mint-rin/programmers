{
  "nbformat": 4,
  "nbformat_minor": 0,
  "metadata": {
    "colab": {
      "provenance": [],
      "authorship_tag": "ABX9TyN51/VplSH4jxsbTDpfDGV6",
      "include_colab_link": true
    },
    "kernelspec": {
      "name": "python3",
      "display_name": "Python 3"
    },
    "language_info": {
      "name": "python"
    }
  },
  "cells": [
    {
      "cell_type": "markdown",
      "metadata": {
        "id": "view-in-github",
        "colab_type": "text"
      },
      "source": [
        "<a href=\"https://colab.research.google.com/github/mint-rin/programmers/blob/coding_basic_training/Day02_%EC%B6%9C%EB%A0%A5%2C%EC%97%B0%EC%82%B0.ipynb\" target=\"_parent\"><img src=\"https://colab.research.google.com/assets/colab-badge.svg\" alt=\"Open In Colab\"/></a>"
      ]
    },
    {
      "cell_type": "markdown",
      "source": [
        "# 덧셈식 출력하기"
      ],
      "metadata": {
        "id": "Cgtifo8Hd4dN"
      }
    },
    {
      "cell_type": "markdown",
      "source": [
        "두 정수 a, b가 주어질 때 다음과 같은 형태의 계산식을 출력하는 코드를 작성해 보세요.\n",
        "\n",
        "a + b = c\n",
        "\n",
        "\n",
        "입출력 예\n",
        "\n",
        "* 입력 4 5\n",
        "* 출력 4 + 5 = 9"
      ],
      "metadata": {
        "id": "eHytWNcnd_sC"
      }
    },
    {
      "cell_type": "code",
      "source": [
        "a, b = map(int, input().strip().split(' '))\n",
        "print(\"{} + {} = {}\".format(a, b, a + b))"
      ],
      "metadata": {
        "id": "RG9u2xz7eCWL"
      },
      "execution_count": null,
      "outputs": []
    },
    {
      "cell_type": "markdown",
      "source": [
        "# 문자열 붙여서 출력하기"
      ],
      "metadata": {
        "id": "vufDnOqVehk7"
      }
    },
    {
      "cell_type": "markdown",
      "source": [
        "두 개의 문자열 str1, str2가 공백으로 구분되어 입력으로 주어집니다.\n",
        "입출력 예와 같이 str1과 str2을 이어서 출력하는 코드를 작성해 보세요.\n",
        "\n",
        "입출력 예\n",
        "* 입력 apple pen\n",
        "*  출력 applepen\n",
        "* 입력 Hello World!\n",
        "* 출력 HelloWorld!"
      ],
      "metadata": {
        "id": "hHuE1X5YejKp"
      }
    },
    {
      "cell_type": "code",
      "source": [
        "str1, str2 = input().strip().split(' ')\n",
        "print(str1+str2)"
      ],
      "metadata": {
        "id": "rmfWTBR4ezqP"
      },
      "execution_count": null,
      "outputs": []
    },
    {
      "cell_type": "markdown",
      "source": [
        "# 문자열 돌리기"
      ],
      "metadata": {
        "id": "19wFEXJBe10i"
      }
    },
    {
      "cell_type": "markdown",
      "source": [
        "문자열 str이 주어집니다.\n",
        "문자열을 시계방향으로 90도 돌려서 아래 입출력 예와 같이 출력하는 코드를 작성해 보세요."
      ],
      "metadata": {
        "id": "D3ApzR8We4j2"
      }
    },
    {
      "cell_type": "code",
      "source": [],
      "metadata": {
        "id": "6RcQDauZe8Z8"
      },
      "execution_count": null,
      "outputs": []
    },
    {
      "cell_type": "markdown",
      "source": [
        "# 홀짝 구분하기"
      ],
      "metadata": {
        "id": "TQgqP1BVg78S"
      }
    },
    {
      "cell_type": "markdown",
      "source": [
        "자연수 n이 입력으로 주어졌을 때 만약 n이 짝수이면 \"n is even\"을, 홀수이면 \"n is odd\"를 출력하는 코드를 작성해 보세요.\n",
        "\n",
        "입출력 예\n",
        "* 입력 100\n",
        "* 출력 100 is even\n",
        "* 입력 1\n",
        "* 출력 1 is odd"
      ],
      "metadata": {
        "id": "-JOebGWRg9np"
      }
    },
    {
      "cell_type": "code",
      "source": [
        "a = int(input())\n",
        "\n",
        "if a % 2 == 0:\n",
        "    print(\"{} is even\".format(a))\n",
        "\n",
        "else:\n",
        "    print(\"{} is odd\".format(a))"
      ],
      "metadata": {
        "id": "DIsS5FtSg_gG"
      },
      "execution_count": null,
      "outputs": []
    },
    {
      "cell_type": "markdown",
      "source": [
        "# 문자열 겹쳐쓰기"
      ],
      "metadata": {
        "id": "lD7c5ve2hL7j"
      }
    },
    {
      "cell_type": "code",
      "source": [],
      "metadata": {
        "id": "2QEl3mDjhQzR"
      },
      "execution_count": null,
      "outputs": []
    }
  ]
}